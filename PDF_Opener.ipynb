{
 "cells": [
  {
   "cell_type": "code",
   "execution_count": null,
   "id": "660921cb",
   "metadata": {},
   "outputs": [],
   "source": [
    "!pip install pikepdf"
   ]
  },
  {
   "cell_type": "code",
   "execution_count": null,
   "id": "3569737b",
   "metadata": {},
   "outputs": [
    {
     "name": "stdout",
     "output_type": "stream",
     "text": [
      "Unlocked PDF saved as: unlocked.pdf\n"
     ]
    }
   ],
   "source": [
    "import pikepdf\n",
    "\n",
    "\n",
    "input_pdf = r\"C:\\Users\\user\\Downloads\\Online_.pdf\"\n",
    "output_pdf = \"unlocked.pdf\"\n",
    "\n",
    "pdf = pikepdf.open(input_pdf)\n",
    "\n",
    "pdf.save(output_pdf)\n",
    "pdf.close()\n",
    "\n",
    "print(f\"Unlocked PDF saved as: {output_pdf}\")"
   ]
  }
 ],
 "metadata": {
  "kernelspec": {
   "display_name": "torch_on",
   "language": "python",
   "name": "python3"
  },
  "language_info": {
   "codemirror_mode": {
    "name": "ipython",
    "version": 3
   },
   "file_extension": ".py",
   "mimetype": "text/x-python",
   "name": "python",
   "nbconvert_exporter": "python",
   "pygments_lexer": "ipython3",
   "version": "3.9.21"
  }
 },
 "nbformat": 4,
 "nbformat_minor": 5
}
