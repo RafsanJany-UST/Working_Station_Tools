{
 "cells": [
  {
   "cell_type": "code",
   "execution_count": 1,
   "id": "6b88a023",
   "metadata": {},
   "outputs": [
    {
     "name": "stdout",
     "output_type": "stream",
     "text": [
      "Running your main script...\n",
      "Git error: Command '['git', 'push']' returned non-zero exit status 128.\n"
     ]
    }
   ],
   "source": [
    "import subprocess\n",
    "\n",
    "def run_git_commands(commit_message=\"Auto commit from script\"):\n",
    "    try:\n",
    "        # Stage all changes\n",
    "        subprocess.run([\"git\", \"add\", \".\"], check=True)\n",
    "        \n",
    "        # Commit with a message\n",
    "        subprocess.run([\"git\", \"commit\", \"-m\", commit_message], check=True)\n",
    "        \n",
    "        # Push to the remote repo\n",
    "        subprocess.run([\"git\", \"push\"], check=True)\n",
    "\n",
    "        print(\"Changes pushed to GitHub.\")\n",
    "    except subprocess.CalledProcessError as e:\n",
    "        print(f\"Git error: {e}\")\n",
    "\n",
    "# Your main code logic here\n",
    "print(\"Running your main script...\")\n",
    "# ... your logic ...\n",
    "\n",
    "# Now auto push after completion\n",
    "run_git_commands(\"Finished execution - auto commit\")\n"
   ]
  },
  {
   "cell_type": "code",
   "execution_count": null,
   "id": "f459c78d",
   "metadata": {},
   "outputs": [],
   "source": []
  }
 ],
 "metadata": {
  "kernelspec": {
   "display_name": "torch_on",
   "language": "python",
   "name": "python3"
  },
  "language_info": {
   "codemirror_mode": {
    "name": "ipython",
    "version": 3
   },
   "file_extension": ".py",
   "mimetype": "text/x-python",
   "name": "python",
   "nbconvert_exporter": "python",
   "pygments_lexer": "ipython3",
   "version": "3.9.20"
  }
 },
 "nbformat": 4,
 "nbformat_minor": 5
}
